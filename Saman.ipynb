{
 "cells": [
  {
   "cell_type": "code",
   "execution_count": 1,
   "metadata": {},
   "outputs": [],
   "source": [
    "import numpy as np"
   ]
  },
  {
   "cell_type": "markdown",
   "metadata": {},
   "source": [
    "# Question1"
   ]
  },
  {
   "cell_type": "code",
   "execution_count": 99,
   "metadata": {},
   "outputs": [
    {
     "name": "stdout",
     "output_type": "stream",
     "text": [
      "mean is: 24.844\n",
      "std is: 3.625694967864782\n",
      "1.0\n"
     ]
    }
   ],
   "source": [
    "a = np.zeros(52)\n",
    "a[26:52] = 1\n",
    "iters = 1000\n",
    "P = list()\n",
    "for i in range(iters):\n",
    "    idx = np.random.permutation(52)\n",
    "    a = a[idx]\n",
    "    P.append(np.sum(a[:-1] - a[1:] == 0))\n",
    "P = np.array(P)  \n",
    "# 1\n",
    "print('mean is:', np.mean(P))\n",
    "# 2\n",
    "print('std is:', np.std(P))\n",
    "# 5\n",
    "print((np.sum(P>12)/iters) / (np.sum(P>6)/iters))"
   ]
  },
  {
   "cell_type": "code",
   "execution_count": 97,
   "metadata": {},
   "outputs": [
    {
     "name": "stdout",
     "output_type": "stream",
     "text": [
      "1000\n"
     ]
    }
   ],
   "source": [
    "print(len(P))"
   ]
  },
  {
   "cell_type": "code",
   "execution_count": 119,
   "metadata": {},
   "outputs": [
    {
     "name": "stdout",
     "output_type": "stream",
     "text": [
      "mean is: 50.98\n",
      "std is: 6.485645688749888\n",
      "1.0\n"
     ]
    }
   ],
   "source": [
    "a = np.zeros(4*52)\n",
    "a[1*52:2*52] = 1\n",
    "a[2*52:3*52] = 2\n",
    "a[3*52:4*52] = 3\n",
    "iters = 1000\n",
    "P = list()\n",
    "for i in range(iters):\n",
    "    idx = np.random.permutation(4*52)\n",
    "    a = a[idx]\n",
    "    P.append(np.sum((a[:-1] - a[1:]) == 0))\n",
    "P = np.array(P)    \n",
    "# 3\n",
    "print('mean is:', np.mean(P))\n",
    "# 4\n",
    "print('std is:', np.std(P))\n",
    "# 6\n",
    "print((np.sum(P>12)/iters) / (np.sum(P>6)/iters))"
   ]
  },
  {
   "cell_type": "markdown",
   "metadata": {},
   "source": [
    "# Question2"
   ]
  },
  {
   "cell_type": "code",
   "execution_count": 1,
   "metadata": {},
   "outputs": [],
   "source": [
    "import csv\n",
    "import numpy as np\n",
    "import pandas as pd\n",
    "from area import area"
   ]
  },
  {
   "cell_type": "code",
   "execution_count": 2,
   "metadata": {},
   "outputs": [
    {
     "name": "stdout",
     "output_type": "stream",
     "text": [
      "Index(['id', 'state', 'stop_date', 'stop_time', 'location_raw', 'county_name',\n",
      "       'county_fips', 'fine_grained_location', 'police_department',\n",
      "       'driver_gender', 'driver_age_raw', 'driver_age', 'driver_race_raw',\n",
      "       'driver_race', 'violation_raw', 'violation', 'search_conducted',\n",
      "       'search_type_raw', 'search_type', 'contraband_found', 'stop_outcome',\n",
      "       'is_arrested', 'officer_id'],\n",
      "      dtype='object')\n"
     ]
    },
    {
     "name": "stderr",
     "output_type": "stream",
     "text": [
      "/home/hse/henv/lib/python3.6/site-packages/IPython/core/interactiveshell.py:3058: DtypeWarning: Columns (19) have mixed types. Specify dtype option on import or set low_memory=False.\n",
      "  interactivity=interactivity, compiler=compiler, result=result)\n"
     ]
    }
   ],
   "source": [
    "data1 = pd.read_csv('VT-clean.csv')\n",
    "print(data1.columns)"
   ]
  },
  {
   "cell_type": "code",
   "execution_count": 3,
   "metadata": {},
   "outputs": [
    {
     "name": "stderr",
     "output_type": "stream",
     "text": [
      "/home/hse/henv/lib/python3.6/site-packages/IPython/core/interactiveshell.py:3058: DtypeWarning: Columns (25,27) have mixed types. Specify dtype option on import or set low_memory=False.\n",
      "  interactivity=interactivity, compiler=compiler, result=result)\n"
     ]
    },
    {
     "name": "stdout",
     "output_type": "stream",
     "text": [
      "Index(['id', 'state', 'stop_date', 'stop_time', 'location_raw', 'county_name',\n",
      "       'county_fips', 'fine_grained_location', 'police_department',\n",
      "       'driver_gender', 'driver_age_raw', 'driver_age', 'driver_race_raw',\n",
      "       'driver_race', 'violation_raw', 'violation', 'search_conducted',\n",
      "       'search_type_raw', 'search_type', 'contraband_found', 'stop_outcome',\n",
      "       'is_arrested', 'lat', 'lon', 'ethnicity', 'city', 'out_of_state',\n",
      "       'vehicle_year', 'vehicle_make', 'vehicle_model', 'vehicle_style',\n",
      "       'search_reason', 'stop_outcome_raw'],\n",
      "      dtype='object')\n"
     ]
    }
   ],
   "source": [
    "data2 = pd.read_csv('MT-clean.csv')\n",
    "print(data2.columns)"
   ]
  },
  {
   "cell_type": "code",
   "execution_count": 4,
   "metadata": {},
   "outputs": [
    {
     "name": "stdout",
     "output_type": "stream",
     "text": [
      "0.6749749732765495\n"
     ]
    }
   ],
   "source": [
    "# 1\n",
    "print(np.sum(data2['driver_gender'] == 'M')/len(data2))"
   ]
  },
  {
   "cell_type": "code",
   "execution_count": 90,
   "metadata": {},
   "outputs": [
    {
     "name": "stdout",
     "output_type": "stream",
     "text": [
      "0.6580998111785223\n"
     ]
    }
   ],
   "source": [
    "# 3\n",
    "v = data2['violation']\n",
    "check = list()\n",
    "for i, v1 in enumerate(v):\n",
    "    if not type(v1) == float:\n",
    "        check.append('Speeding' in v1)\n",
    "print(np.sum(check)/len(data2))"
   ]
  },
  {
   "cell_type": "code",
   "execution_count": 43,
   "metadata": {},
   "outputs": [
    {
     "name": "stdout",
     "output_type": "stream",
     "text": [
      "102097\n",
      "2005.8721284934402\n"
     ]
    }
   ],
   "source": [
    "# 5\n",
    "print(np.sum(pd.DatetimeIndex(data2['stop_date']).year == 2016))\n",
    "idx = pd.DatetimeIndex(data2['stop_date']).year == 2016\n",
    "\n",
    "v_year = data2['vehicle_year'][idx]\n",
    "index = pd.to_numeric(v_year, errors='coerce').notnull()\n",
    "v_year = pd.to_numeric(v_year[index])\n",
    "print(v_year.mean())"
   ]
  },
  {
   "cell_type": "code",
   "execution_count": 57,
   "metadata": {},
   "outputs": [
    {
     "name": "stdout",
     "output_type": "stream",
     "text": [
      "[10567, 6451, 2197, 744, 318, 618, 3088, 8614, 15152, 16847, 14427, 10842, 9330, 13203, 17492, 20184, 19003, 23888, 26370, 15930, 10963, 11616, 12544, 12897]\n",
      "26052\n"
     ]
    }
   ],
   "source": [
    "# 6\n",
    "stops = list()\n",
    "hours = pd.to_datetime(data1['stop_time']).dt.hour\n",
    "for i in range(24):\n",
    "    stops.append(np.sum(hours == i))\n",
    "print(stops)\n",
    "print(max(stops) - min(stops))"
   ]
  },
  {
   "cell_type": "code",
   "execution_count": 58,
   "metadata": {},
   "outputs": [
    {
     "name": "stdout",
     "output_type": "stream",
     "text": [
      "[14923, 10405, 6202, 681, 229, 1092, 5473, 32936, 47336, 45386, 47519, 40166, 34694, 46078, 64637, 75707, 67883, 57549, 56060, 42050, 36281, 34275, 31843, 25702]\n",
      "75478\n"
     ]
    }
   ],
   "source": [
    "# 6\n",
    "stops = list()\n",
    "hours = pd.to_datetime(data2['stop_time']).dt.hour\n",
    "for i in range(24):\n",
    "    stops.append(np.sum(hours == i))\n",
    "print(stops)\n",
    "print(max(stops) - min(stops))"
   ]
  },
  {
   "cell_type": "code",
   "execution_count": 176,
   "metadata": {},
   "outputs": [
    {
     "name": "stdout",
     "output_type": "stream",
     "text": [
      "5742802674709.28\n"
     ]
    }
   ],
   "source": [
    "# 7\n",
    "a = 0\n",
    "for country in pd.unique(data2.county_name):\n",
    "    lats = data2[data2.county_name == country].lat\n",
    "    lons = data2[data2.county_name == country].lon\n",
    "    lat1 = lats[lats>10].min()\n",
    "    lat2 = lats.max()\n",
    "    lon1 = lons.min()\n",
    "    lon2 = lons[lons<-10].max()\n",
    "    obj = {'type':'Polygon','coordinates':[[[lon1,lat1],[lon1,lat2],[lon2,lat2],[lon2,lat1],[lon1,lat1]]]}\n",
    "    a = max(a, area(obj))\n",
    "print(a)"
   ]
  }
 ],
 "metadata": {
  "kernelspec": {
   "display_name": "henv",
   "language": "python",
   "name": "henv"
  },
  "language_info": {
   "codemirror_mode": {
    "name": "ipython",
    "version": 3
   },
   "file_extension": ".py",
   "mimetype": "text/x-python",
   "name": "python",
   "nbconvert_exporter": "python",
   "pygments_lexer": "ipython3",
   "version": "3.6.8"
  }
 },
 "nbformat": 4,
 "nbformat_minor": 2
}
